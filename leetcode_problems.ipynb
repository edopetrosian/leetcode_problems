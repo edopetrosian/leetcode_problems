{
 "cells": [
  {
   "cell_type": "code",
   "execution_count": 1,
   "metadata": {},
   "outputs": [
    {
     "data": {
      "text/plain": [
       "'The numbers for target are 2 , 4'"
      ]
     },
     "execution_count": 1,
     "metadata": {},
     "output_type": "execute_result"
    }
   ],
   "source": [
    "def TwoSums(nums, target):\n",
    "    for i in nums:\n",
    "        for j in nums[1:]:\n",
    "            if i + j == target:\n",
    "                return f\"The numbers for target are {i} , {j}\"\n",
    "    return \"Not such values in nums\"\n",
    "\n",
    "nums = [1 , 2, 4, 8]\n",
    "target = 6\n",
    "\n",
    "TwoSums(nums, target)"
   ]
  },
  {
   "cell_type": "code",
   "execution_count": 5,
   "metadata": {},
   "outputs": [
    {
     "data": {
      "text/plain": [
       "7"
      ]
     },
     "execution_count": 5,
     "metadata": {},
     "output_type": "execute_result"
    }
   ],
   "source": [
    "def maxProfit(prices):\n",
    "    maxProf = 0\n",
    "    for i in prices:\n",
    "        for j in prices[1:]:\n",
    "            if j - i > maxProf:\n",
    "                maxProf = j - i\n",
    "    return maxProf\n",
    "\n",
    "prices = [7,1,5,3,6,4,8]\n",
    "\n",
    "maxProfit(prices)"
   ]
  },
  {
   "cell_type": "code",
   "execution_count": 8,
   "metadata": {},
   "outputs": [
    {
     "data": {
      "text/plain": [
       "True"
      ]
     },
     "execution_count": 8,
     "metadata": {},
     "output_type": "execute_result"
    }
   ],
   "source": [
    "def containsDuplicate(nums):\n",
    "    if len(nums) > len(set(nums)):\n",
    "        return True\n",
    "    return False\n",
    "\n",
    "nums = [1,2,3,1]\n",
    "\n",
    "containsDuplicate(nums)"
   ]
  },
  {
   "cell_type": "code",
   "execution_count": 32,
   "metadata": {},
   "outputs": [
    {
     "data": {
      "text/plain": [
       "15"
      ]
     },
     "execution_count": 32,
     "metadata": {},
     "output_type": "execute_result"
    }
   ],
   "source": [
    "def getSum(a, b):\n",
    "    while (b != 0):\n",
    "        carry = a & b \n",
    "        a = a ^ b\n",
    "        b = carry << 1\n",
    "    return a\n",
    "    \n",
    "\n",
    "a = 5\n",
    "b = 10\n",
    "getSum(a, b)"
   ]
  },
  {
   "cell_type": "code",
   "execution_count": 22,
   "metadata": {},
   "outputs": [
    {
     "data": {
      "text/plain": [
       "4"
      ]
     },
     "execution_count": 22,
     "metadata": {},
     "output_type": "execute_result"
    }
   ],
   "source": [
    "def hammingWeight(n):\n",
    "    count = 0\n",
    "    while n:\n",
    "        if n - 1 == n & (n-1):\n",
    "            count += 1\n",
    "        n = n >> 1\n",
    "    return count\n",
    "    \n",
    "        \n",
    "n = 0b00000000000000000000001000001011\n",
    "hammingWeight(n)"
   ]
  },
  {
   "cell_type": "code",
   "execution_count": 16,
   "metadata": {},
   "outputs": [
    {
     "data": {
      "text/plain": [
       "'0b11111101011010111110000101100011'"
      ]
     },
     "execution_count": 16,
     "metadata": {},
     "output_type": "execute_result"
    }
   ],
   "source": [
    "def reverseBits(n):\n",
    "    m = 2**32 -1\n",
    "    m ^= n\n",
    "    return bin(m)\n",
    "\n",
    "\n",
    "n = 0b00000010100101000001111010011100\n",
    "reverseBits(n)"
   ]
  },
  {
   "cell_type": "code",
   "execution_count": 30,
   "metadata": {},
   "outputs": [
    {
     "data": {
      "text/plain": [
       "(8, [4, -1, 2, 1, 2])"
      ]
     },
     "execution_count": 30,
     "metadata": {},
     "output_type": "execute_result"
    }
   ],
   "source": [
    "def maxSubArray(nums):\n",
    "    lst = []\n",
    "    sum_nums = 0\n",
    "    for i in range(len(nums)):\n",
    "        for j in range(i, len(nums)):\n",
    "            tmp = sum(nums[i:j])\n",
    "            if tmp > sum_nums:\n",
    "                sum_nums = tmp\n",
    "                lst = nums[i:j]\n",
    "    return sum_nums, lst\n",
    "\n",
    "nums = [-2,1,-3,4,-1,2,1, 2, -5,4]\n",
    "\n",
    "maxSubArray(nums)\n",
    "\n",
    "\n",
    "        \n"
   ]
  }
 ],
 "metadata": {
  "kernelspec": {
   "display_name": "Python 3",
   "language": "python",
   "name": "python3"
  },
  "language_info": {
   "codemirror_mode": {
    "name": "ipython",
    "version": 3
   },
   "file_extension": ".py",
   "mimetype": "text/x-python",
   "name": "python",
   "nbconvert_exporter": "python",
   "pygments_lexer": "ipython3",
   "version": "3.9.13"
  },
  "orig_nbformat": 4,
  "vscode": {
   "interpreter": {
    "hash": "497338f01161d141240caa60efca5087225791fadc9b7c964beb65d863e046f0"
   }
  }
 },
 "nbformat": 4,
 "nbformat_minor": 2
}
